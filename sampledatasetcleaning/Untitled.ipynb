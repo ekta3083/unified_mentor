{
 "cells": [
  {
   "cell_type": "code",
   "execution_count": 58,
   "id": "69cf9d0c-3fde-4cae-b54b-002c49b33f32",
   "metadata": {},
   "outputs": [],
   "source": [
    "import pandas as pd\n",
    "import numpy as np\n",
    "import seaborn as snp\n",
    "import matplotlib.pyplot as plt\n",
    "from sklearn.preprocessing import OneHotEncoder\n",
    "from sklearn.impute import SimpleImputer\n",
    "from sklearn.preprocessing import StandardScaler"
   ]
  },
  {
   "cell_type": "code",
   "execution_count": 59,
   "id": "678ac4f2-9816-48c0-8ca2-673397a459e4",
   "metadata": {},
   "outputs": [
    {
     "data": {
      "text/html": [
       "<div>\n",
       "<style scoped>\n",
       "    .dataframe tbody tr th:only-of-type {\n",
       "        vertical-align: middle;\n",
       "    }\n",
       "\n",
       "    .dataframe tbody tr th {\n",
       "        vertical-align: top;\n",
       "    }\n",
       "\n",
       "    .dataframe thead th {\n",
       "        text-align: right;\n",
       "    }\n",
       "</style>\n",
       "<table border=\"1\" class=\"dataframe\">\n",
       "  <thead>\n",
       "    <tr style=\"text-align: right;\">\n",
       "      <th></th>\n",
       "      <th>ID</th>\n",
       "      <th>Name</th>\n",
       "      <th>Age</th>\n",
       "      <th>Salary</th>\n",
       "      <th>JoinDate</th>\n",
       "      <th>Department</th>\n",
       "      <th>Rating</th>\n",
       "    </tr>\n",
       "  </thead>\n",
       "  <tbody>\n",
       "    <tr>\n",
       "      <th>0</th>\n",
       "      <td>1</td>\n",
       "      <td>Alice</td>\n",
       "      <td>25.0</td>\n",
       "      <td>50000.0</td>\n",
       "      <td>2020-01-15</td>\n",
       "      <td>HR</td>\n",
       "      <td>4.5</td>\n",
       "    </tr>\n",
       "    <tr>\n",
       "      <th>1</th>\n",
       "      <td>2</td>\n",
       "      <td>Bob</td>\n",
       "      <td>30.0</td>\n",
       "      <td>60000.0</td>\n",
       "      <td>2019-03-22</td>\n",
       "      <td>Finance</td>\n",
       "      <td>3.8</td>\n",
       "    </tr>\n",
       "    <tr>\n",
       "      <th>2</th>\n",
       "      <td>3</td>\n",
       "      <td>NaN</td>\n",
       "      <td>35.0</td>\n",
       "      <td>55000.0</td>\n",
       "      <td>2020-07-01</td>\n",
       "      <td>IT</td>\n",
       "      <td>NaN</td>\n",
       "    </tr>\n",
       "    <tr>\n",
       "      <th>3</th>\n",
       "      <td>4</td>\n",
       "      <td>David</td>\n",
       "      <td>NaN</td>\n",
       "      <td>52000.0</td>\n",
       "      <td>NaN</td>\n",
       "      <td>HR</td>\n",
       "      <td>4.2</td>\n",
       "    </tr>\n",
       "    <tr>\n",
       "      <th>4</th>\n",
       "      <td>5</td>\n",
       "      <td>Eve</td>\n",
       "      <td>29.0</td>\n",
       "      <td>NaN</td>\n",
       "      <td>2021-11-09</td>\n",
       "      <td>IT</td>\n",
       "      <td>4.0</td>\n",
       "    </tr>\n",
       "    <tr>\n",
       "      <th>5</th>\n",
       "      <td>6</td>\n",
       "      <td>Frank</td>\n",
       "      <td>40.0</td>\n",
       "      <td>62000.0</td>\n",
       "      <td>2018-08-10</td>\n",
       "      <td>Finance</td>\n",
       "      <td>NaN</td>\n",
       "    </tr>\n",
       "    <tr>\n",
       "      <th>6</th>\n",
       "      <td>7</td>\n",
       "      <td>Grace</td>\n",
       "      <td>22.0</td>\n",
       "      <td>58000.0</td>\n",
       "      <td>2019-12-05</td>\n",
       "      <td>IT</td>\n",
       "      <td>3.9</td>\n",
       "    </tr>\n",
       "    <tr>\n",
       "      <th>7</th>\n",
       "      <td>8</td>\n",
       "      <td>Hank</td>\n",
       "      <td>36.0</td>\n",
       "      <td>61000.0</td>\n",
       "      <td>2020-06-30</td>\n",
       "      <td>Finance</td>\n",
       "      <td>4.1</td>\n",
       "    </tr>\n",
       "    <tr>\n",
       "      <th>8</th>\n",
       "      <td>9</td>\n",
       "      <td>Ivy</td>\n",
       "      <td>NaN</td>\n",
       "      <td>53000.0</td>\n",
       "      <td>NaN</td>\n",
       "      <td>HR</td>\n",
       "      <td>3.7</td>\n",
       "    </tr>\n",
       "    <tr>\n",
       "      <th>9</th>\n",
       "      <td>10</td>\n",
       "      <td>John</td>\n",
       "      <td>28.0</td>\n",
       "      <td>59000.0</td>\n",
       "      <td>2021-03-01</td>\n",
       "      <td>IT</td>\n",
       "      <td>4.3</td>\n",
       "    </tr>\n",
       "    <tr>\n",
       "      <th>10</th>\n",
       "      <td>2</td>\n",
       "      <td>Bob</td>\n",
       "      <td>30.0</td>\n",
       "      <td>60000.0</td>\n",
       "      <td>2019-03-22</td>\n",
       "      <td>Finance</td>\n",
       "      <td>3.8</td>\n",
       "    </tr>\n",
       "  </tbody>\n",
       "</table>\n",
       "</div>"
      ],
      "text/plain": [
       "    ID   Name   Age   Salary    JoinDate Department  Rating\n",
       "0    1  Alice  25.0  50000.0  2020-01-15         HR     4.5\n",
       "1    2    Bob  30.0  60000.0  2019-03-22    Finance     3.8\n",
       "2    3    NaN  35.0  55000.0  2020-07-01         IT     NaN\n",
       "3    4  David   NaN  52000.0         NaN         HR     4.2\n",
       "4    5    Eve  29.0      NaN  2021-11-09         IT     4.0\n",
       "5    6  Frank  40.0  62000.0  2018-08-10    Finance     NaN\n",
       "6    7  Grace  22.0  58000.0  2019-12-05         IT     3.9\n",
       "7    8   Hank  36.0  61000.0  2020-06-30    Finance     4.1\n",
       "8    9    Ivy   NaN  53000.0         NaN         HR     3.7\n",
       "9   10   John  28.0  59000.0  2021-03-01         IT     4.3\n",
       "10   2    Bob  30.0  60000.0  2019-03-22    Finance     3.8"
      ]
     },
     "execution_count": 59,
     "metadata": {},
     "output_type": "execute_result"
    }
   ],
   "source": [
    "df=pd.read_csv('sample_data_for_cleaning.csv')\n",
    "df"
   ]
  },
  {
   "cell_type": "code",
   "execution_count": 60,
   "id": "d71edb1f-4c25-41a2-b5f1-f41d1709103d",
   "metadata": {},
   "outputs": [
    {
     "data": {
      "text/plain": [
       "(11, 7)"
      ]
     },
     "execution_count": 60,
     "metadata": {},
     "output_type": "execute_result"
    }
   ],
   "source": [
    "df.shape"
   ]
  },
  {
   "cell_type": "code",
   "execution_count": 61,
   "id": "c81b61bf-480c-482c-b3ce-cb2a65a1bc6b",
   "metadata": {},
   "outputs": [
    {
     "name": "stdout",
     "output_type": "stream",
     "text": [
      "<class 'pandas.core.frame.DataFrame'>\n",
      "RangeIndex: 11 entries, 0 to 10\n",
      "Data columns (total 7 columns):\n",
      " #   Column      Non-Null Count  Dtype  \n",
      "---  ------      --------------  -----  \n",
      " 0   ID          11 non-null     int64  \n",
      " 1   Name        10 non-null     object \n",
      " 2   Age         9 non-null      float64\n",
      " 3   Salary      10 non-null     float64\n",
      " 4   JoinDate    9 non-null      object \n",
      " 5   Department  11 non-null     object \n",
      " 6   Rating      9 non-null      float64\n",
      "dtypes: float64(3), int64(1), object(3)\n",
      "memory usage: 748.0+ bytes\n"
     ]
    }
   ],
   "source": [
    "df.info()"
   ]
  },
  {
   "cell_type": "code",
   "execution_count": 62,
   "id": "869f3514-4334-4fca-a723-e342f24869f7",
   "metadata": {},
   "outputs": [
    {
     "data": {
      "text/html": [
       "<div>\n",
       "<style scoped>\n",
       "    .dataframe tbody tr th:only-of-type {\n",
       "        vertical-align: middle;\n",
       "    }\n",
       "\n",
       "    .dataframe tbody tr th {\n",
       "        vertical-align: top;\n",
       "    }\n",
       "\n",
       "    .dataframe thead th {\n",
       "        text-align: right;\n",
       "    }\n",
       "</style>\n",
       "<table border=\"1\" class=\"dataframe\">\n",
       "  <thead>\n",
       "    <tr style=\"text-align: right;\">\n",
       "      <th></th>\n",
       "      <th>ID</th>\n",
       "      <th>Age</th>\n",
       "      <th>Salary</th>\n",
       "      <th>Rating</th>\n",
       "    </tr>\n",
       "  </thead>\n",
       "  <tbody>\n",
       "    <tr>\n",
       "      <th>count</th>\n",
       "      <td>11.000000</td>\n",
       "      <td>9.000000</td>\n",
       "      <td>10.00000</td>\n",
       "      <td>9.000000</td>\n",
       "    </tr>\n",
       "    <tr>\n",
       "      <th>mean</th>\n",
       "      <td>5.181818</td>\n",
       "      <td>30.555556</td>\n",
       "      <td>57000.00000</td>\n",
       "      <td>4.033333</td>\n",
       "    </tr>\n",
       "    <tr>\n",
       "      <th>std</th>\n",
       "      <td>3.060006</td>\n",
       "      <td>5.614960</td>\n",
       "      <td>4189.93503</td>\n",
       "      <td>0.264575</td>\n",
       "    </tr>\n",
       "    <tr>\n",
       "      <th>min</th>\n",
       "      <td>1.000000</td>\n",
       "      <td>22.000000</td>\n",
       "      <td>50000.00000</td>\n",
       "      <td>3.700000</td>\n",
       "    </tr>\n",
       "    <tr>\n",
       "      <th>25%</th>\n",
       "      <td>2.500000</td>\n",
       "      <td>28.000000</td>\n",
       "      <td>53500.00000</td>\n",
       "      <td>3.800000</td>\n",
       "    </tr>\n",
       "    <tr>\n",
       "      <th>50%</th>\n",
       "      <td>5.000000</td>\n",
       "      <td>30.000000</td>\n",
       "      <td>58500.00000</td>\n",
       "      <td>4.000000</td>\n",
       "    </tr>\n",
       "    <tr>\n",
       "      <th>75%</th>\n",
       "      <td>7.500000</td>\n",
       "      <td>35.000000</td>\n",
       "      <td>60000.00000</td>\n",
       "      <td>4.200000</td>\n",
       "    </tr>\n",
       "    <tr>\n",
       "      <th>max</th>\n",
       "      <td>10.000000</td>\n",
       "      <td>40.000000</td>\n",
       "      <td>62000.00000</td>\n",
       "      <td>4.500000</td>\n",
       "    </tr>\n",
       "  </tbody>\n",
       "</table>\n",
       "</div>"
      ],
      "text/plain": [
       "              ID        Age       Salary    Rating\n",
       "count  11.000000   9.000000     10.00000  9.000000\n",
       "mean    5.181818  30.555556  57000.00000  4.033333\n",
       "std     3.060006   5.614960   4189.93503  0.264575\n",
       "min     1.000000  22.000000  50000.00000  3.700000\n",
       "25%     2.500000  28.000000  53500.00000  3.800000\n",
       "50%     5.000000  30.000000  58500.00000  4.000000\n",
       "75%     7.500000  35.000000  60000.00000  4.200000\n",
       "max    10.000000  40.000000  62000.00000  4.500000"
      ]
     },
     "execution_count": 62,
     "metadata": {},
     "output_type": "execute_result"
    }
   ],
   "source": [
    "df.describe()"
   ]
  },
  {
   "cell_type": "code",
   "execution_count": 63,
   "id": "562b8520-ba6b-46b7-929b-a5d7624233c2",
   "metadata": {},
   "outputs": [
    {
     "data": {
      "text/plain": [
       "ID            0\n",
       "Name          1\n",
       "Age           2\n",
       "Salary        1\n",
       "JoinDate      2\n",
       "Department    0\n",
       "Rating        2\n",
       "dtype: int64"
      ]
     },
     "execution_count": 63,
     "metadata": {},
     "output_type": "execute_result"
    }
   ],
   "source": [
    "df.isnull().sum()"
   ]
  },
  {
   "cell_type": "code",
   "execution_count": 64,
   "id": "b476addd-6fae-4426-b137-c6d3b8e37784",
   "metadata": {},
   "outputs": [
    {
     "data": {
      "text/plain": [
       "Index(['ID', 'Age', 'Salary', 'Rating'], dtype='object')"
      ]
     },
     "execution_count": 64,
     "metadata": {},
     "output_type": "execute_result"
    }
   ],
   "source": [
    "num_col = df.select_dtypes(include=['number']).columns\n",
    "num_col"
   ]
  },
  {
   "cell_type": "code",
   "execution_count": 65,
   "id": "e19fe011-db44-4acd-9298-9fe53535f688",
   "metadata": {},
   "outputs": [
    {
     "data": {
      "text/plain": [
       "ID        0\n",
       "Age       2\n",
       "Salary    1\n",
       "Rating    2\n",
       "dtype: int64"
      ]
     },
     "execution_count": 65,
     "metadata": {},
     "output_type": "execute_result"
    }
   ],
   "source": [
    "df[num_col].isnull().sum()"
   ]
  },
  {
   "cell_type": "code",
   "execution_count": 66,
   "id": "916abf9a-8988-414e-ab7b-a1e0a23d13ea",
   "metadata": {},
   "outputs": [
    {
     "data": {
      "text/plain": [
       "<Axes: >"
      ]
     },
     "execution_count": 66,
     "metadata": {},
     "output_type": "execute_result"
    },
    {
     "data": {
      "image/png": "[encoded data removed]",
      "text/plain": [
       "<Figure size 640x480 with 2 Axes>"
      ]
     },
     "metadata": {},
     "output_type": "display_data"
    }
   ],
   "source": [
    "snp.heatmap(df.isnull())"
   ]
  },
  {
   "cell_type": "code",
   "execution_count": 82,
   "id": "d57ca600-c006-4b70-a77a-d0b47a0f81bb",
   "metadata": {},
   "outputs": [],
   "source": [
    "#scaler=StandardScaler()\n",
    "#df[num_col]=scaler.fit_transform(df[num_col])\n",
    "#df[num_col]"
   ]
  },
  {
   "cell_type": "code",
   "execution_count": 83,
   "id": "a016161a-25a3-4b83-b5c9-37e88fce39a0",
   "metadata": {},
   "outputs": [
    {
     "name": "stdout",
     "output_type": "stream",
     "text": [
      "Q1:\n",
      " ID       -0.919186\n",
      "Age      -0.388292\n",
      "Salary   -0.754732\n",
      "Rating   -0.734968\n",
      "Name: 0.25, dtype: float64\n",
      "Q3:\n",
      " ID        0.794551\n",
      "Age       0.419775\n",
      "Salary    0.754732\n",
      "Rating    0.467707\n",
      "Name: 0.75, dtype: float64\n",
      "IQR:\n",
      " ID        1.713737\n",
      "Age       0.808068\n",
      "Salary    1.509464\n",
      "Rating    1.202676\n",
      "dtype: float64\n",
      "Lower bound:\n",
      " ID       -3.489791\n",
      "Age      -1.600394\n",
      "Salary   -3.018928\n",
      "Rating   -2.538982\n",
      "dtype: float64\n",
      "Upper bound:\n",
      " ID        3.365156\n",
      "Age       1.631877\n",
      "Salary    3.018928\n",
      "Rating    2.271721\n",
      "dtype: float64\n",
      "Outliers:\n",
      "     ID       Age  Salary  Rating\n",
      "0  NaN       NaN     NaN     NaN\n",
      "1  NaN       NaN     NaN     NaN\n",
      "2  NaN       NaN     NaN     NaN\n",
      "3  NaN       NaN     NaN     NaN\n",
      "4  NaN       NaN     NaN     NaN\n",
      "5  NaN  1.784046     NaN     NaN\n",
      "6  NaN -1.616136     NaN     NaN\n",
      "7  NaN       NaN     NaN     NaN\n",
      "8  NaN       NaN     NaN     NaN\n",
      "9  NaN       NaN     NaN     NaN\n",
      "10 NaN       NaN     NaN     NaN\n"
     ]
    }
   ],
   "source": [
    "Q1=df[num_col].quantile(0.25)\n",
    "Q3=df[num_col].quantile(0.75)\n",
    "IQR=Q3-Q1\n",
    "lower_bound=Q1-1.5*IQR\n",
    "upper_bound=Q3+1.5*IQR\n",
    "print(\"Q1:\\n\", Q1)\n",
    "print(\"Q3:\\n\", Q3)\n",
    "print(\"IQR:\\n\", IQR)\n",
    "print(\"Lower bound:\\n\", lower_bound)\n",
    "print(\"Upper bound:\\n\", upper_bound)\n",
    "outliers = df[num_col][(df[num_col] < lower_bound) | (df[num_col] > upper_bound)]\n",
    "print(\"Outliers:\\n\", outliers)"
   ]
  },
  {
   "cell_type": "code",
   "execution_count": 84,
   "id": "295edd28-7180-4558-82db-1a8aa9a94495",
   "metadata": {},
   "outputs": [
    {
     "data": {
      "text/plain": [
       "ID        4.037175e-17\n",
       "Age      -3.191891e-16\n",
       "Salary   -3.027881e-17\n",
       "Rating    2.018587e-16\n",
       "dtype: float64"
      ]
     },
     "execution_count": 84,
     "metadata": {},
     "output_type": "execute_result"
    }
   ],
   "source": [
    "mean=df[num_col].mean()\n",
    "mean"
   ]
  },
  {
   "cell_type": "code",
   "execution_count": 85,
   "id": "bcd46762-53ea-402b-931e-bdff93a5561c",
   "metadata": {},
   "outputs": [
    {
     "data": {
      "text/html": [
       "<div>\n",
       "<style scoped>\n",
       "    .dataframe tbody tr th:only-of-type {\n",
       "        vertical-align: middle;\n",
       "    }\n",
       "\n",
       "    .dataframe tbody tr th {\n",
       "        vertical-align: top;\n",
       "    }\n",
       "\n",
       "    .dataframe thead th {\n",
       "        text-align: right;\n",
       "    }\n",
       "</style>\n",
       "<table border=\"1\" class=\"dataframe\">\n",
       "  <thead>\n",
       "    <tr style=\"text-align: right;\">\n",
       "      <th></th>\n",
       "      <th>ID</th>\n",
       "      <th>Age</th>\n",
       "      <th>Salary</th>\n",
       "      <th>Rating</th>\n",
       "    </tr>\n",
       "  </thead>\n",
       "  <tbody>\n",
       "    <tr>\n",
       "      <th>0</th>\n",
       "      <td>-1.433307</td>\n",
       "      <td>-1.049439e+00</td>\n",
       "      <td>-1.761041e+00</td>\n",
       "      <td>1.870829e+00</td>\n",
       "    </tr>\n",
       "    <tr>\n",
       "      <th>1</th>\n",
       "      <td>-1.090560</td>\n",
       "      <td>-1.049439e-01</td>\n",
       "      <td>7.547319e-01</td>\n",
       "      <td>-9.354143e-01</td>\n",
       "    </tr>\n",
       "    <tr>\n",
       "      <th>2</th>\n",
       "      <td>-0.747812</td>\n",
       "      <td>8.395510e-01</td>\n",
       "      <td>-5.031546e-01</td>\n",
       "      <td>1.973730e-16</td>\n",
       "    </tr>\n",
       "    <tr>\n",
       "      <th>3</th>\n",
       "      <td>-0.405065</td>\n",
       "      <td>-3.161052e-16</td>\n",
       "      <td>-1.257887e+00</td>\n",
       "      <td>6.681531e-01</td>\n",
       "    </tr>\n",
       "    <tr>\n",
       "      <th>4</th>\n",
       "      <td>-0.062318</td>\n",
       "      <td>-2.938428e-01</td>\n",
       "      <td>-3.330669e-17</td>\n",
       "      <td>-1.336306e-01</td>\n",
       "    </tr>\n",
       "    <tr>\n",
       "      <th>5</th>\n",
       "      <td>0.280430</td>\n",
       "      <td>1.784046e+00</td>\n",
       "      <td>1.257887e+00</td>\n",
       "      <td>1.973730e-16</td>\n",
       "    </tr>\n",
       "    <tr>\n",
       "      <th>6</th>\n",
       "      <td>0.623177</td>\n",
       "      <td>-1.616136e+00</td>\n",
       "      <td>2.515773e-01</td>\n",
       "      <td>-5.345225e-01</td>\n",
       "    </tr>\n",
       "    <tr>\n",
       "      <th>7</th>\n",
       "      <td>0.965924</td>\n",
       "      <td>1.028450e+00</td>\n",
       "      <td>1.006309e+00</td>\n",
       "      <td>2.672612e-01</td>\n",
       "    </tr>\n",
       "    <tr>\n",
       "      <th>8</th>\n",
       "      <td>1.308672</td>\n",
       "      <td>-3.161052e-16</td>\n",
       "      <td>-1.006309e+00</td>\n",
       "      <td>-1.336306e+00</td>\n",
       "    </tr>\n",
       "    <tr>\n",
       "      <th>9</th>\n",
       "      <td>1.651419</td>\n",
       "      <td>-4.827418e-01</td>\n",
       "      <td>5.031546e-01</td>\n",
       "      <td>1.069045e+00</td>\n",
       "    </tr>\n",
       "    <tr>\n",
       "      <th>10</th>\n",
       "      <td>-1.090560</td>\n",
       "      <td>-1.049439e-01</td>\n",
       "      <td>7.547319e-01</td>\n",
       "      <td>-9.354143e-01</td>\n",
       "    </tr>\n",
       "  </tbody>\n",
       "</table>\n",
       "</div>"
      ],
      "text/plain": [
       "          ID           Age        Salary        Rating\n",
       "0  -1.433307 -1.049439e+00 -1.761041e+00  1.870829e+00\n",
       "1  -1.090560 -1.049439e-01  7.547319e-01 -9.354143e-01\n",
       "2  -0.747812  8.395510e-01 -5.031546e-01  1.973730e-16\n",
       "3  -0.405065 -3.161052e-16 -1.257887e+00  6.681531e-01\n",
       "4  -0.062318 -2.938428e-01 -3.330669e-17 -1.336306e-01\n",
       "5   0.280430  1.784046e+00  1.257887e+00  1.973730e-16\n",
       "6   0.623177 -1.616136e+00  2.515773e-01 -5.345225e-01\n",
       "7   0.965924  1.028450e+00  1.006309e+00  2.672612e-01\n",
       "8   1.308672 -3.161052e-16 -1.006309e+00 -1.336306e+00\n",
       "9   1.651419 -4.827418e-01  5.031546e-01  1.069045e+00\n",
       "10 -1.090560 -1.049439e-01  7.547319e-01 -9.354143e-01"
      ]
     },
     "execution_count": 85,
     "metadata": {},
     "output_type": "execute_result"
    }
   ],
   "source": [
    "df[num_col]=df[num_col].fillna(mean)\n",
    "df[num_col]"
   ]
  },
  {
   "cell_type": "code",
   "execution_count": 86,
   "id": "a080f0a4-7692-4973-b8cc-0db9e99797ec",
   "metadata": {},
   "outputs": [
    {
     "data": {
      "text/plain": [
       "ID        0\n",
       "Age       0\n",
       "Salary    0\n",
       "Rating    0\n",
       "dtype: int64"
      ]
     },
     "execution_count": 86,
     "metadata": {},
     "output_type": "execute_result"
    }
   ],
   "source": [
    "df[num_col].isnull().sum()"
   ]
  },
  {
   "cell_type": "code",
   "execution_count": 87,
   "id": "d997ca87-8b21-45dd-93bf-59fcd622c709",
   "metadata": {},
   "outputs": [
    {
     "data": {
      "text/plain": [
       "ID            0\n",
       "Name          0\n",
       "Age           0\n",
       "Salary        0\n",
       "JoinDate      0\n",
       "Department    0\n",
       "Rating        0\n",
       "dtype: int64"
      ]
     },
     "execution_count": 87,
     "metadata": {},
     "output_type": "execute_result"
    }
   ],
   "source": [
    "df.isnull().sum()"
   ]
  },
  {
   "cell_type": "code",
   "execution_count": 88,
   "id": "48a3400c-dd3c-483e-9a17-38794fa21e9f",
   "metadata": {},
   "outputs": [
    {
     "data": {
      "text/plain": [
       "Index(['Name', 'Department'], dtype='object')"
      ]
     },
     "execution_count": 88,
     "metadata": {},
     "output_type": "execute_result"
    }
   ],
   "source": [
    "cat_col=df.select_dtypes(include=['object']).columns\n",
    "cat_col"
   ]
  },
  {
   "cell_type": "code",
   "execution_count": 89,
   "id": "f08ca577-7537-4283-88e5-4a5ddec83fd6",
   "metadata": {},
   "outputs": [
    {
     "data": {
      "text/html": [
       "<div>\n",
       "<style scoped>\n",
       "    .dataframe tbody tr th:only-of-type {\n",
       "        vertical-align: middle;\n",
       "    }\n",
       "\n",
       "    .dataframe tbody tr th {\n",
       "        vertical-align: top;\n",
       "    }\n",
       "\n",
       "    .dataframe thead th {\n",
       "        text-align: right;\n",
       "    }\n",
       "</style>\n",
       "<table border=\"1\" class=\"dataframe\">\n",
       "  <thead>\n",
       "    <tr style=\"text-align: right;\">\n",
       "      <th></th>\n",
       "      <th>Name</th>\n",
       "      <th>Department</th>\n",
       "    </tr>\n",
       "  </thead>\n",
       "  <tbody>\n",
       "    <tr>\n",
       "      <th>0</th>\n",
       "      <td>Bob</td>\n",
       "      <td>Finance</td>\n",
       "    </tr>\n",
       "    <tr>\n",
       "      <th>1</th>\n",
       "      <td>NaN</td>\n",
       "      <td>IT</td>\n",
       "    </tr>\n",
       "  </tbody>\n",
       "</table>\n",
       "</div>"
      ],
      "text/plain": [
       "  Name Department\n",
       "0  Bob    Finance\n",
       "1  NaN         IT"
      ]
     },
     "execution_count": 89,
     "metadata": {},
     "output_type": "execute_result"
    }
   ],
   "source": [
    "mode=df[cat_col].mode()\n",
    "mode"
   ]
  },
  {
   "cell_type": "code",
   "execution_count": 90,
   "id": "6a88e2b8-7676-430d-b2f4-b88327cb5eba",
   "metadata": {},
   "outputs": [
    {
     "data": {
      "text/plain": [
       "0       Alice\n",
       "1         Bob\n",
       "2     unkmown\n",
       "3       David\n",
       "4         Eve\n",
       "5       Frank\n",
       "6       Grace\n",
       "7        Hank\n",
       "8         Ivy\n",
       "9        John\n",
       "10        Bob\n",
       "Name: Name, dtype: object"
      ]
     },
     "execution_count": 90,
     "metadata": {},
     "output_type": "execute_result"
    }
   ],
   "source": [
    "df['Name']=df['Name'].fillna('unkmown')\n",
    "df['Name']"
   ]
  },
  {
   "cell_type": "code",
   "execution_count": 91,
   "id": "59a5bd00-26ce-4ec9-8e40-6b0a61d7bd32",
   "metadata": {},
   "outputs": [
    {
     "name": "stdout",
     "output_type": "stream",
     "text": [
      "0    2020-01-15\n",
      "1    2019-03-22\n",
      "2    2020-07-01\n",
      "3    2020-02-11\n",
      "4    2021-11-09\n",
      "5    2018-08-10\n",
      "6    2019-12-05\n",
      "7    2020-06-30\n",
      "8    2020-02-11\n",
      "9    2021-03-01\n",
      "10   2019-03-22\n",
      "Name: JoinDate, dtype: datetime64[ns]\n"
     ]
    }
   ],
   "source": [
    "# Ensure the column is in datetime format\n",
    "df['JoinDate'] = pd.to_datetime(df['JoinDate'], errors='coerce')\n",
    "\n",
    "# Calculate the median date\n",
    "median_date = df['JoinDate'].median()\n",
    "\n",
    "# Fill missing values with the median date\n",
    "df['JoinDate'] = df['JoinDate'].fillna(median_date)\n",
    "\n",
    "# Verify the changes\n",
    "print(df['JoinDate'])"
   ]
  },
  {
   "cell_type": "code",
   "execution_count": 81,
   "id": "fad37acd-c8db-4b1b-b004-163a20e4f6da",
   "metadata": {},
   "outputs": [
    {
     "data": {
      "text/html": [
       "<div>\n",
       "<style scoped>\n",
       "    .dataframe tbody tr th:only-of-type {\n",
       "        vertical-align: middle;\n",
       "    }\n",
       "\n",
       "    .dataframe tbody tr th {\n",
       "        vertical-align: top;\n",
       "    }\n",
       "\n",
       "    .dataframe thead th {\n",
       "        text-align: right;\n",
       "    }\n",
       "</style>\n",
       "<table border=\"1\" class=\"dataframe\">\n",
       "  <thead>\n",
       "    <tr style=\"text-align: right;\">\n",
       "      <th></th>\n",
       "      <th>ID</th>\n",
       "      <th>Name</th>\n",
       "      <th>Age</th>\n",
       "      <th>Salary</th>\n",
       "      <th>JoinDate</th>\n",
       "      <th>Department</th>\n",
       "      <th>Rating</th>\n",
       "    </tr>\n",
       "  </thead>\n",
       "  <tbody>\n",
       "    <tr>\n",
       "      <th>0</th>\n",
       "      <td>-1.433307</td>\n",
       "      <td>Alice</td>\n",
       "      <td>-1.049439e+00</td>\n",
       "      <td>-1.761041e+00</td>\n",
       "      <td>2020-01-15</td>\n",
       "      <td>HR</td>\n",
       "      <td>1.870829e+00</td>\n",
       "    </tr>\n",
       "    <tr>\n",
       "      <th>1</th>\n",
       "      <td>-1.090560</td>\n",
       "      <td>Bob</td>\n",
       "      <td>-1.049439e-01</td>\n",
       "      <td>7.547319e-01</td>\n",
       "      <td>2019-03-22</td>\n",
       "      <td>Finance</td>\n",
       "      <td>-9.354143e-01</td>\n",
       "    </tr>\n",
       "    <tr>\n",
       "      <th>2</th>\n",
       "      <td>-0.747812</td>\n",
       "      <td>unkmown</td>\n",
       "      <td>8.395510e-01</td>\n",
       "      <td>-5.031546e-01</td>\n",
       "      <td>2020-07-01</td>\n",
       "      <td>IT</td>\n",
       "      <td>1.973730e-16</td>\n",
       "    </tr>\n",
       "    <tr>\n",
       "      <th>3</th>\n",
       "      <td>-0.405065</td>\n",
       "      <td>David</td>\n",
       "      <td>-3.161052e-16</td>\n",
       "      <td>-1.257887e+00</td>\n",
       "      <td>2020-02-11</td>\n",
       "      <td>HR</td>\n",
       "      <td>6.681531e-01</td>\n",
       "    </tr>\n",
       "    <tr>\n",
       "      <th>4</th>\n",
       "      <td>-0.062318</td>\n",
       "      <td>Eve</td>\n",
       "      <td>-2.938428e-01</td>\n",
       "      <td>-3.330669e-17</td>\n",
       "      <td>2021-11-09</td>\n",
       "      <td>IT</td>\n",
       "      <td>-1.336306e-01</td>\n",
       "    </tr>\n",
       "    <tr>\n",
       "      <th>5</th>\n",
       "      <td>0.280430</td>\n",
       "      <td>Frank</td>\n",
       "      <td>1.784046e+00</td>\n",
       "      <td>1.257887e+00</td>\n",
       "      <td>2018-08-10</td>\n",
       "      <td>Finance</td>\n",
       "      <td>1.973730e-16</td>\n",
       "    </tr>\n",
       "    <tr>\n",
       "      <th>6</th>\n",
       "      <td>0.623177</td>\n",
       "      <td>Grace</td>\n",
       "      <td>-1.616136e+00</td>\n",
       "      <td>2.515773e-01</td>\n",
       "      <td>2019-12-05</td>\n",
       "      <td>IT</td>\n",
       "      <td>-5.345225e-01</td>\n",
       "    </tr>\n",
       "    <tr>\n",
       "      <th>7</th>\n",
       "      <td>0.965924</td>\n",
       "      <td>Hank</td>\n",
       "      <td>1.028450e+00</td>\n",
       "      <td>1.006309e+00</td>\n",
       "      <td>2020-06-30</td>\n",
       "      <td>Finance</td>\n",
       "      <td>2.672612e-01</td>\n",
       "    </tr>\n",
       "    <tr>\n",
       "      <th>8</th>\n",
       "      <td>1.308672</td>\n",
       "      <td>Ivy</td>\n",
       "      <td>-3.161052e-16</td>\n",
       "      <td>-1.006309e+00</td>\n",
       "      <td>2020-02-11</td>\n",
       "      <td>HR</td>\n",
       "      <td>-1.336306e+00</td>\n",
       "    </tr>\n",
       "    <tr>\n",
       "      <th>9</th>\n",
       "      <td>1.651419</td>\n",
       "      <td>John</td>\n",
       "      <td>-4.827418e-01</td>\n",
       "      <td>5.031546e-01</td>\n",
       "      <td>2021-03-01</td>\n",
       "      <td>IT</td>\n",
       "      <td>1.069045e+00</td>\n",
       "    </tr>\n",
       "    <tr>\n",
       "      <th>10</th>\n",
       "      <td>-1.090560</td>\n",
       "      <td>Bob</td>\n",
       "      <td>-1.049439e-01</td>\n",
       "      <td>7.547319e-01</td>\n",
       "      <td>2019-03-22</td>\n",
       "      <td>Finance</td>\n",
       "      <td>-9.354143e-01</td>\n",
       "    </tr>\n",
       "  </tbody>\n",
       "</table>\n",
       "</div>"
      ],
      "text/plain": [
       "          ID     Name           Age        Salary   JoinDate Department  \\\n",
       "0  -1.433307    Alice -1.049439e+00 -1.761041e+00 2020-01-15         HR   \n",
       "1  -1.090560      Bob -1.049439e-01  7.547319e-01 2019-03-22    Finance   \n",
       "2  -0.747812  unkmown  8.395510e-01 -5.031546e-01 2020-07-01         IT   \n",
       "3  -0.405065    David -3.161052e-16 -1.257887e+00 2020-02-11         HR   \n",
       "4  -0.062318      Eve -2.938428e-01 -3.330669e-17 2021-11-09         IT   \n",
       "5   0.280430    Frank  1.784046e+00  1.257887e+00 2018-08-10    Finance   \n",
       "6   0.623177    Grace -1.616136e+00  2.515773e-01 2019-12-05         IT   \n",
       "7   0.965924     Hank  1.028450e+00  1.006309e+00 2020-06-30    Finance   \n",
       "8   1.308672      Ivy -3.161052e-16 -1.006309e+00 2020-02-11         HR   \n",
       "9   1.651419     John -4.827418e-01  5.031546e-01 2021-03-01         IT   \n",
       "10 -1.090560      Bob -1.049439e-01  7.547319e-01 2019-03-22    Finance   \n",
       "\n",
       "          Rating  \n",
       "0   1.870829e+00  \n",
       "1  -9.354143e-01  \n",
       "2   1.973730e-16  \n",
       "3   6.681531e-01  \n",
       "4  -1.336306e-01  \n",
       "5   1.973730e-16  \n",
       "6  -5.345225e-01  \n",
       "7   2.672612e-01  \n",
       "8  -1.336306e+00  \n",
       "9   1.069045e+00  \n",
       "10 -9.354143e-01  "
      ]
     },
     "execution_count": 81,
     "metadata": {},
     "output_type": "execute_result"
    }
   ],
   "source": [
    "df"
   ]
  },
  {
   "cell_type": "code",
   "execution_count": null,
   "id": "732367d8-9d40-413d-8107-3b8214c6fdda",
   "metadata": {},
   "outputs": [],
   "source": []
  }
 ],
 "metadata": {
  "kernelspec": {
   "display_name": "Python 3 (ipykernel)",
   "language": "python",
   "name": "python3"
  },
  "language_info": {
   "codemirror_mode": {
    "name": "ipython",
    "version": 3
   },
   "file_extension": ".py",
   "mimetype": "text/x-python",
   "name": "python",
   "nbconvert_exporter": "python",
   "pygments_lexer": "ipython3",
   "version": "3.12.4"
  }
 },
 "nbformat": 4,
 "nbformat_minor": 5
}
